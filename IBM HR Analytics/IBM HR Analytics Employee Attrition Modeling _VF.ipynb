{
 "cells": [
  {
   "cell_type": "markdown",
   "id": "9319e88d",
   "metadata": {},
   "source": [
    "## IBM HR Analytics Employee Attrition Modeling "
   ]
  },
  {
   "cell_type": "markdown",
   "id": "551b0b2a",
   "metadata": {},
   "source": [
    "### Content"
   ]
  },
  {
   "cell_type": "markdown",
   "id": "43fd13fc",
   "metadata": {},
   "source": [
    "<ol>\n",
    "<li>Description</li>\n",
    "<li>Data Gathering</li>\n",
    "<li>Data Assessment and Cleaning</li>\n",
    "<li>Data Visualization</li>\n",
    "<li>Features transformation</li>\n",
    "<li>Data correlation</li>\n",
    "<li> Machine Learning</li>\n",
    "<li>Conclusion</li>\n",
    "</ol>"
   ]
  },
  {
   "cell_type": "markdown",
   "id": "b109565c",
   "metadata": {},
   "source": [
    "### 1. Description\n",
    "\n",
    "IBM is an American MNC operating in around 170 countries with major business vertical as computing, software, and hardware.\n",
    "Attrition is a major risk to service-providing organizations where trained and experienced people are the assets of the company. The organization would like to identify the factors which influence the attrition of employees.\n",
    "\n",
    "Data Dictionary\n",
    "\n",
    "* Age: Age of employee <br>\n",
    "* Attrition: Employee attrition status<br>\n",
    "* Department: Department of work<br>\n",
    "* DistanceFromHome<br>\n",
    "* Education: 1-Below College; 2- College; 3-Bachelor; 4-Master; 5-Doctor;<br>\n",
    "* EducationField<br>\n",
    "* EnvironmentSatisfaction: 1-Low; 2-Medium; 3-High; 4-Very High;<br>\n",
    "* JobSatisfaction: 1-Low; 2-Medium; 3-High; 4-Very High;<br>\n",
    "* MaritalStatus<br>\n",
    "* MonthlyIncome<br>\n",
    "* NumCompaniesWorked: Number of companies worked prior to IBM<br>\n",
    "* WorkLifeBalance: 1-Bad; 2-Good; 3-Better; 4-Best;<br>\n",
    "* YearsAtCompany: Current years of service in IBM<br>\n",
    "\n",
    "Analysis Task:<br>\n",
    "<ol>\n",
    "<li>Import attrition dataset and import libraries such as pandas, matplotlib.pyplot, numpy, and seaborn.</li>\n",
    "<li>Exploratory data analysis</li>\n",
    "* Find the age distribution of employees in IBM<br>\n",
    "* Explore attrition by age<br>\n",
    "* Explore data for Left employees<br>\n",
    "* Find out the distribution of employees by the education field<br>\n",
    "* Give a bar chart for the number of married and unmarried employees<br>\n",
    "<li>Build up a logistic regression model to predict which employees are likely to attrite.</li>\n",
    "</ol>"
   ]
  },
  {
   "cell_type": "markdown",
   "id": "623e6705",
   "metadata": {},
   "source": [
    "### 2. Data Gathering"
   ]
  },
  {
   "cell_type": "code",
   "execution_count": null,
   "id": "6294ac01",
   "metadata": {},
   "outputs": [],
   "source": [
    "#import libraries\n",
    "import pandas as pd\n",
    "import numpy as np\n",
    "import matplotlib.pyplot as plt\n",
    "import seaborn as sns\n",
    "from sklearn.linear_model import LogisticRegression\n",
    "from sklearn.model_selection import train_test_split\n",
    "from sklearn.metrics import confusion_matrix, plot_confusion_matrix, classification_report\n",
    "from sklearn.metrics import plot_precision_recall_curve, plot_roc_curve\n",
    "from sklearn.preprocessing import MinMaxScaler\n",
    "from sklearn.preprocessing import StandardScaler\n",
    "from sklearn.feature_selection import RFE\n",
    "\n",
    "import warnings\n",
    "%matplotlib inline"
   ]
  },
  {
   "cell_type": "code",
   "execution_count": null,
   "id": "fe1ca243",
   "metadata": {},
   "outputs": [],
   "source": [
    "data=pd.read_csv (\"IBM Attrition Data.csv\")"
   ]
  },
  {
   "cell_type": "markdown",
   "id": "4694e461",
   "metadata": {},
   "source": [
    "### 3. Data Assessment and Cleaning"
   ]
  },
  {
   "cell_type": "code",
   "execution_count": null,
   "id": "5d971f23",
   "metadata": {},
   "outputs": [],
   "source": [
    "data.head()"
   ]
  },
  {
   "cell_type": "code",
   "execution_count": null,
   "id": "9a661966",
   "metadata": {},
   "outputs": [],
   "source": [
    "data.tail()"
   ]
  },
  {
   "cell_type": "code",
   "execution_count": null,
   "id": "8f9b7110",
   "metadata": {},
   "outputs": [],
   "source": [
    "data.dtypes"
   ]
  },
  {
   "cell_type": "code",
   "execution_count": null,
   "id": "21759115",
   "metadata": {},
   "outputs": [],
   "source": [
    "data.isna()"
   ]
  },
  {
   "cell_type": "code",
   "execution_count": null,
   "id": "790bfd47",
   "metadata": {},
   "outputs": [],
   "source": [
    "data.isnull().sum"
   ]
  },
  {
   "cell_type": "code",
   "execution_count": null,
   "id": "bc22d67d",
   "metadata": {},
   "outputs": [],
   "source": [
    "data.count()"
   ]
  },
  {
   "cell_type": "code",
   "execution_count": null,
   "id": "e08df5eb",
   "metadata": {},
   "outputs": [],
   "source": [
    "type(data)"
   ]
  },
  {
   "cell_type": "code",
   "execution_count": null,
   "id": "a1dbecee",
   "metadata": {},
   "outputs": [],
   "source": [
    "data.describe()"
   ]
  },
  {
   "cell_type": "code",
   "execution_count": 1,
   "id": "c1a0c0e7",
   "metadata": {},
   "outputs": [],
   "source": [
    "### 4. Data Visualization"
   ]
  },
  {
   "cell_type": "code",
   "execution_count": null,
   "id": "23279795",
   "metadata": {},
   "outputs": [],
   "source": [
    "# histogram for age\n",
    "plt.figure(figsize=(4,2), dpi=130)\n",
    "data['Age'].hist(bins=70, color=\"green\", alpha=0.8)\n",
    "plt.xlabel('Age')\n",
    "plt.ylabel('Employees')\n",
    "plt.title('Age distribution of employees in IBM')\n",
    "plt.xlim(15, 65)\n",
    "plt.ylim(0, 80)\n",
    "plt.grid(False)\n",
    "plt.show()"
   ]
  },
  {
   "cell_type": "code",
   "execution_count": null,
   "id": "7e22dca9",
   "metadata": {},
   "outputs": [],
   "source": [
    "# Explore attrition by age\n",
    "plt.figure(figsize=(4,4))\n",
    "plt.bar(data.Attrition, data.Age,width=0.4,align= 'center', color=\"green\", alpha=0.8)\n",
    "plt.xlabel('attrition by age')\n",
    "plt.ylabel('Age')\n",
    "plt.title('Attrition by age')\n",
    "plt.ylim(0, 70)\n",
    "plt.grid(True, which='major',axis='y')\n",
    "plt.show()"
   ]
  },
  {
   "cell_type": "code",
   "execution_count": null,
   "id": "11226b56",
   "metadata": {},
   "outputs": [],
   "source": [
    "# data for Left employees breakdown\n",
    "plt.figure(figsize=(4,2))\n",
    "data.Attrition.value_counts().plot(kind=\"barh\", color=\"green\", alpha=0.8)\n",
    "plt.ylabel('Age')\n",
    "plt.title('Left employees breakdown')\n",
    "plt.xlim(0, 1400)"
   ]
  },
  {
   "cell_type": "code",
   "execution_count": null,
   "id": "d326f9f1",
   "metadata": {},
   "outputs": [],
   "source": [
    "#Find out the distribution of employees by the education field\n",
    "plt.figure(figsize=(4,4))\n",
    "data.EducationField\t.value_counts().plot(kind=\"barh\", color=\"green\", alpha=0.8)\n",
    "plt.ylabel('Education field')\n",
    "plt.title('Employees by the education field')\n",
    "plt.xlim(0, 700)"
   ]
  },
  {
   "cell_type": "code",
   "execution_count": null,
   "id": "ac0752fa",
   "metadata": {},
   "outputs": [],
   "source": [
    "#Give a bar chart for the number of married and unmarried employees\n",
    "plt.figure(figsize=(3,3))\n",
    "data.MaritalStatus.value_counts().plot(kind=\"bar\", color=\"green\", alpha=0.8)\n",
    "plt.show()"
   ]
  },
  {
   "cell_type": "code",
   "execution_count": null,
   "id": "041a808d",
   "metadata": {},
   "outputs": [],
   "source": [
    "data.hist()\n",
    "plt.show"
   ]
  },
  {
   "cell_type": "markdown",
   "id": "08af13a9",
   "metadata": {},
   "source": [
    "## 5. Features transformation"
   ]
  },
  {
   "cell_type": "code",
   "execution_count": null,
   "id": "2db1edd7",
   "metadata": {},
   "outputs": [],
   "source": [
    "data['Attrition'].replace('Yes',1, inplace=True)\n",
    "data['Attrition'].replace('No',0, inplace=True)"
   ]
  },
  {
   "cell_type": "code",
   "execution_count": null,
   "id": "c5399ef2",
   "metadata": {},
   "outputs": [],
   "source": [
    "data['EducationField'].value_counts()\n",
    "data['EducationField'].replace(\"Life Sciences\", 1, inplace=True)\n",
    "data['EducationField'].replace(\"Medical\", 2, inplace=True)\n",
    "data['EducationField'].replace(\"Marketing\", 3, inplace=True)\n",
    "data['EducationField'].replace(\"Technical Degree\", 4, inplace=True)\n",
    "data['EducationField'].replace(\"Other\", 5, inplace=True)\n",
    "data['EducationField'].replace(\"Human Resources\", 6, inplace=True)"
   ]
  },
  {
   "cell_type": "code",
   "execution_count": null,
   "id": "654956a6",
   "metadata": {},
   "outputs": [],
   "source": [
    "data['Department'].value_counts()\n",
    "data['Department'].replace(\"Research & Development\",1, inplace=True)\n",
    "data['Department'].replace(\"Sales\",2, inplace=True)\n",
    "data['Department'].replace(\"Human Resources\", 3, inplace=True)"
   ]
  },
  {
   "cell_type": "code",
   "execution_count": null,
   "id": "9ae28f82",
   "metadata": {},
   "outputs": [],
   "source": [
    "data['MaritalStatus'].value_counts()\n",
    "data['MaritalStatus'].replace(\"Married\", 1, inplace=True)\n",
    "data['MaritalStatus'].replace(\"Single\", 2, inplace=True)\n",
    "data['MaritalStatus'].replace(\"Divorced\",3,inplace=True)"
   ]
  },
  {
   "cell_type": "markdown",
   "id": "8c956a62",
   "metadata": {},
   "source": [
    "## 6. Data correlation"
   ]
  },
  {
   "cell_type": "code",
   "execution_count": null,
   "id": "305b795e",
   "metadata": {},
   "outputs": [],
   "source": [
    "data.dtypes"
   ]
  },
  {
   "cell_type": "code",
   "execution_count": null,
   "id": "541c5c9f",
   "metadata": {},
   "outputs": [],
   "source": [
    "data.corr()"
   ]
  },
  {
   "cell_type": "code",
   "execution_count": null,
   "id": "2745fdfd",
   "metadata": {},
   "outputs": [],
   "source": [
    "fig = plt.figure()\n",
    "ax = fig.add_subplot(111)\n",
    "cax = ax.matshow(data.corr(), vmin=-1, vmax=1, interpolation = 'none')\n",
    "fig.colorbar(cax)\n",
    "plt.show()"
   ]
  },
  {
   "cell_type": "code",
   "execution_count": null,
   "id": "1c781156",
   "metadata": {},
   "outputs": [],
   "source": [
    "plt.figure(figsize=(12,8), dpi=200)\n",
    "sns.heatmap(data.corr(), annot=True, cmap='viridis');"
   ]
  },
  {
   "cell_type": "code",
   "execution_count": null,
   "id": "f7e9bdcb",
   "metadata": {},
   "outputs": [],
   "source": [
    "## 7. Machine Learning\n",
    "### Train | Test Split and Scaling | Logistic regression model"
   ]
  },
  {
   "cell_type": "markdown",
   "id": "d9d24569",
   "metadata": {},
   "source": [
    "#### MODEL 1 - Considering all features"
   ]
  },
  {
   "cell_type": "code",
   "execution_count": null,
   "id": "5f26f7fc",
   "metadata": {},
   "outputs": [],
   "source": [
    "x1= data.drop('Attrition', axis=1)\n",
    "y1= data['Attrition']"
   ]
  },
  {
   "cell_type": "code",
   "execution_count": null,
   "id": "d4fd9f1f",
   "metadata": {},
   "outputs": [],
   "source": [
    "#Normalization\n",
    "scaler = MinMaxScaler(feature_range = (0, 1))\n",
    "rescaledx1 = scaler.fit_transform(x1)"
   ]
  },
  {
   "cell_type": "code",
   "execution_count": null,
   "id": "d39b6749",
   "metadata": {},
   "outputs": [],
   "source": [
    "x_train, x_test, y_train, y_test = train_test_split(rescaledx1, y1, test_size=0.3, random_state=0)"
   ]
  },
  {
   "cell_type": "code",
   "execution_count": null,
   "id": "47fdcab7",
   "metadata": {},
   "outputs": [],
   "source": [
    "len(x_train), len(x_test)"
   ]
  },
  {
   "cell_type": "code",
   "execution_count": null,
   "id": "d93c72a6",
   "metadata": {},
   "outputs": [],
   "source": [
    "#Create a StandardScaler object and normalize the X train and test set feature data.\n",
    "\n",
    "scaler = StandardScaler()\n",
    "scaled_x_train = scaler.fit_transform(x_train)\n",
    "scaled_x_test = scaler.transform(x_test)"
   ]
  },
  {
   "cell_type": "code",
   "execution_count": null,
   "id": "2f15d197",
   "metadata": {},
   "outputs": [],
   "source": [
    "# Build up a logistic regression model to predict which employees are likely to attrite using all feature\n",
    "model = LogisticRegression(solver='lbfgs', max_iter=400)\n",
    "model = model.fit(scaled_x_train, y_train)\n",
    "model.score(scaled_x_train, y_train)"
   ]
  },
  {
   "cell_type": "code",
   "execution_count": null,
   "id": "5cc503f8",
   "metadata": {},
   "outputs": [],
   "source": [
    "result = model.score(x_test, y_test)\n",
    "print(\"Acuracy: %.3f%%\" % (result * 100.0))"
   ]
  },
  {
   "cell_type": "code",
   "execution_count": null,
   "id": "6bfe425d",
   "metadata": {},
   "outputs": [],
   "source": [
    "model.coef_"
   ]
  },
  {
   "cell_type": "code",
   "execution_count": null,
   "id": "3f86f3f1",
   "metadata": {},
   "outputs": [],
   "source": [
    "y_pred = model.predict(scaled_x_test)"
   ]
  },
  {
   "cell_type": "code",
   "execution_count": null,
   "id": "d5478e26",
   "metadata": {},
   "outputs": [],
   "source": [
    "probs = model.predict_proba(scaled_x_test)\n",
    "print(probs)"
   ]
  },
  {
   "cell_type": "code",
   "execution_count": null,
   "id": "7a475772",
   "metadata": {},
   "outputs": [],
   "source": [
    "# Model Performance Evaluation\n",
    "confusion_matrix(y_test, y_pred)"
   ]
  },
  {
   "cell_type": "code",
   "execution_count": null,
   "id": "3dd018e9",
   "metadata": {},
   "outputs": [],
   "source": [
    "plot_confusion_matrix(model, scaled_x_test, y_test);"
   ]
  },
  {
   "cell_type": "markdown",
   "id": "aec4e627",
   "metadata": {},
   "source": [
    "We can see 71 mistakes"
   ]
  },
  {
   "cell_type": "code",
   "execution_count": null,
   "id": "61c03987",
   "metadata": {},
   "outputs": [],
   "source": [
    "print(confusion_matrix(y_test, y_pred))\n",
    "print(classification_report(y_test, y_pred))"
   ]
  },
  {
   "cell_type": "code",
   "execution_count": null,
   "id": "a309442f",
   "metadata": {},
   "outputs": [],
   "source": [
    "#Coefficients\n",
    "coef = pd.Series(data=model.coef_[0], index=x1.columns)\n",
    "coef"
   ]
  },
  {
   "cell_type": "code",
   "execution_count": null,
   "id": "c3a47ab9",
   "metadata": {},
   "outputs": [],
   "source": [
    "coef=coef.sort_values()\n",
    "coef"
   ]
  },
  {
   "cell_type": "code",
   "execution_count": null,
   "id": "9273939c",
   "metadata": {},
   "outputs": [],
   "source": [
    "plt.figure(figsize=(8,4))\n",
    "sns.barplot(x=coef.index, y=coef.values)\n",
    "plt.xticks(rotation=45)"
   ]
  },
  {
   "cell_type": "code",
   "execution_count": null,
   "id": "c0ad4aae",
   "metadata": {},
   "outputs": [],
   "source": [
    "#Performance Curves\n",
    "#Create both the precision recall curve and the ROC Curve."
   ]
  },
  {
   "cell_type": "code",
   "execution_count": null,
   "id": "b1ac5353",
   "metadata": {},
   "outputs": [],
   "source": [
    "plot_precision_recall_curve(model, scaled_x_test, y_test);"
   ]
  },
  {
   "cell_type": "code",
   "execution_count": null,
   "id": "540fe709",
   "metadata": {},
   "outputs": [],
   "source": [
    "plot_roc_curve(model, scaled_x_test, y_test);"
   ]
  },
  {
   "cell_type": "markdown",
   "id": "6e442037",
   "metadata": {},
   "source": [
    "#### MODEL 2 - Considering features with positive correlation"
   ]
  },
  {
   "cell_type": "code",
   "execution_count": null,
   "id": "401022d1",
   "metadata": {},
   "outputs": [],
   "source": [
    "x2 = data[['Age', 'Education', 'EnvironmentSatisfaction', 'JobSatisfaction',\n",
    "         'MonthlyIncome', 'WorkLifeBalance','YearsAtCompany']]\n",
    "y2 = data['Attrition']"
   ]
  },
  {
   "cell_type": "code",
   "execution_count": null,
   "id": "32e12eba",
   "metadata": {},
   "outputs": [],
   "source": [
    "#Normalization\n",
    "scaler = MinMaxScaler(feature_range = (0, 1))\n",
    "rescaledx2 = scaler.fit_transform(x2)"
   ]
  },
  {
   "cell_type": "code",
   "execution_count": null,
   "id": "c96ba182",
   "metadata": {},
   "outputs": [],
   "source": [
    "x2_train, x2_test, y2_train, y2_test = train_test_split(rescaledx2, y2, test_size=0.3, random_state=0)\n",
    "\n",
    "scaler = StandardScaler()\n",
    "\n",
    "scaled_x2_train = scaler.fit_transform(x2_train)\n",
    "scaled_x2_test = scaler.transform(x2_test)"
   ]
  },
  {
   "cell_type": "code",
   "execution_count": null,
   "id": "aea3da44",
   "metadata": {},
   "outputs": [],
   "source": [
    "model2 = LogisticRegression(solver='lbfgs', max_iter=400)\n",
    "model2 = model2.fit(scaled_x2_train, y2_train)\n",
    "model2.score(scaled_x2_train, y2_train)"
   ]
  },
  {
   "cell_type": "code",
   "execution_count": null,
   "id": "63c92805",
   "metadata": {},
   "outputs": [],
   "source": [
    "result = model2.score(x2_test, y2_test)\n",
    "print(\"Acuracy: %.3f%%\" % (result * 100.0))"
   ]
  },
  {
   "cell_type": "code",
   "execution_count": null,
   "id": "04073500",
   "metadata": {},
   "outputs": [],
   "source": [
    "model2.coef_"
   ]
  },
  {
   "cell_type": "code",
   "execution_count": null,
   "id": "96f7167a",
   "metadata": {},
   "outputs": [],
   "source": [
    "# Model Performance Evaluation\n",
    "y2_pred = model2.predict(scaled_x2_test)\n",
    "confusion_matrix(y2_test, y2_pred)\n",
    "plot_confusion_matrix(model2, scaled_x2_test, y2_test)\n",
    "print(classification_report(y2_test, y2_pred,zero_division='warn'))"
   ]
  },
  {
   "cell_type": "markdown",
   "id": "f6fb05d8",
   "metadata": {},
   "source": [
    "We can see 71 mistakes"
   ]
  },
  {
   "cell_type": "code",
   "execution_count": null,
   "id": "8f097642",
   "metadata": {},
   "outputs": [],
   "source": [
    "#Coefficients\n",
    "coef = pd.Series(data=model2.coef_[0], index=x2.columns)\n",
    "coef"
   ]
  },
  {
   "cell_type": "code",
   "execution_count": null,
   "id": "54ebc6b7",
   "metadata": {},
   "outputs": [],
   "source": [
    "coef=coef.sort_values()\n",
    "coef"
   ]
  },
  {
   "cell_type": "code",
   "execution_count": null,
   "id": "2d3c7ebc",
   "metadata": {},
   "outputs": [],
   "source": [
    "plt.figure(figsize=(8,4))\n",
    "sns.barplot(x=coef.index, y=coef.values)\n",
    "plt.xticks(rotation=45)"
   ]
  },
  {
   "cell_type": "code",
   "execution_count": null,
   "id": "de491c67",
   "metadata": {},
   "outputs": [],
   "source": [
    "#Performance Curves\n",
    "#Create both the precision recall curve and the ROC Curve."
   ]
  },
  {
   "cell_type": "code",
   "execution_count": null,
   "id": "1965c5cc",
   "metadata": {},
   "outputs": [],
   "source": [
    "plot_precision_recall_curve(model2, scaled_x2_test, y2_test);"
   ]
  },
  {
   "cell_type": "markdown",
   "id": "1d640069",
   "metadata": {},
   "source": [
    "#### MODEL 3 - Considering RFE for feature selection"
   ]
  },
  {
   "cell_type": "code",
   "execution_count": null,
   "id": "c16500e3",
   "metadata": {},
   "outputs": [],
   "source": [
    "data2 = data [['Attrition', 'Age','Department', 'DistanceFromHome', 'Education',\n",
    "       'EducationField', 'EnvironmentSatisfaction', 'JobSatisfaction',\n",
    "       'MaritalStatus', 'MonthlyIncome', 'NumCompaniesWorked',\n",
    "       'WorkLifeBalance', 'YearsAtCompany']]"
   ]
  },
  {
   "cell_type": "code",
   "execution_count": null,
   "id": "6fdc7279",
   "metadata": {},
   "outputs": [],
   "source": [
    "data2.head()"
   ]
  },
  {
   "cell_type": "code",
   "execution_count": null,
   "id": "11de4ec0",
   "metadata": {},
   "outputs": [],
   "source": [
    "x3 = data2.iloc [:,1:12]\n",
    "y3 = data2.iloc [:,0]"
   ]
  },
  {
   "cell_type": "code",
   "execution_count": null,
   "id": "d6bf52a4",
   "metadata": {},
   "outputs": [],
   "source": [
    "#Normalization\n",
    "scaler = MinMaxScaler(feature_range = (0, 1))\n",
    "rescaledx3 = scaler.fit_transform(x3)\n",
    "print(rescaledx3[0:5,:])"
   ]
  },
  {
   "cell_type": "code",
   "execution_count": null,
   "id": "a2c02167",
   "metadata": {},
   "outputs": [],
   "source": [
    "modelo3 = LogisticRegression(solver='lbfgs', max_iter=400)"
   ]
  },
  {
   "cell_type": "code",
   "execution_count": null,
   "id": "5486b2aa",
   "metadata": {},
   "outputs": [],
   "source": [
    "# RFE\n",
    "rfe = RFE(estimator = modelo3, n_features_to_select=7)\n",
    "fit = rfe.fit(rescaledx3, y3)\n",
    "\n",
    "# Print dos resultados\n",
    "print(\"Number of features: %d\" % fit.n_features_)\n",
    "print(data2.columns[1:12])\n",
    "print(\"Features selected: %s\" % fit.support_)\n",
    "print(\"Features Ranking: %s\" % fit.ranking_)"
   ]
  },
  {
   "cell_type": "code",
   "execution_count": null,
   "id": "1bbb4a25",
   "metadata": {},
   "outputs": [],
   "source": [
    "x4= data2 [['Age', 'Department','EnvironmentSatisfaction', 'JobSatisfaction',\n",
    "       'MonthlyIncome', 'NumCompaniesWorked', 'WorkLifeBalance']]\n",
    "y4 = data2 ['Attrition']"
   ]
  },
  {
   "cell_type": "code",
   "execution_count": null,
   "id": "d86062a6",
   "metadata": {},
   "outputs": [],
   "source": [
    "#Normalization\n",
    "scaler = MinMaxScaler(feature_range = (0, 1))\n",
    "rescaledx4 = scaler.fit_transform(x4)"
   ]
  },
  {
   "cell_type": "code",
   "execution_count": null,
   "id": "93e41ed2",
   "metadata": {},
   "outputs": [],
   "source": [
    "x4_train, x4_test, y4_train, y4_test = train_test_split(rescaledx4, y4, test_size=0.3, random_state=763)\n",
    "\n",
    "scaler = StandardScaler()\n",
    "\n",
    "scaled_x4_train = scaler.fit_transform(x4_train)\n",
    "scaled_x4_test = scaler.transform(x4_test)"
   ]
  },
  {
   "cell_type": "code",
   "execution_count": null,
   "id": "cabc2c61",
   "metadata": {},
   "outputs": [],
   "source": [
    "model4 = LogisticRegression(solver='lbfgs', max_iter=400)\n",
    "model4 = model4.fit(scaled_x4_train, y4_train)\n",
    "model4.score(scaled_x4_train, y4_train)"
   ]
  },
  {
   "cell_type": "code",
   "execution_count": null,
   "id": "85af389f",
   "metadata": {},
   "outputs": [],
   "source": [
    "result = model4.score(x4_test, y4_test)\n",
    "print(\"Acuracy: %.3f%%\" % (result * 100.0))"
   ]
  },
  {
   "cell_type": "code",
   "execution_count": null,
   "id": "9522b980",
   "metadata": {
    "scrolled": true
   },
   "outputs": [],
   "source": [
    "# Model Performance Evaluation\n",
    "y4_pred = model4.predict(scaled_x4_test)\n",
    "confusion_matrix(y4_test, y4_pred)\n",
    "plot_confusion_matrix(model4, scaled_x4_test, y4_test)\n",
    "print(classification_report(y4_test, y4_pred))"
   ]
  },
  {
   "cell_type": "markdown",
   "id": "3e5b57f9",
   "metadata": {},
   "source": [
    "We can see 80 mistakes"
   ]
  },
  {
   "cell_type": "code",
   "execution_count": null,
   "id": "ef80b86c",
   "metadata": {},
   "outputs": [],
   "source": [
    "#Performance Curves\n",
    "#Create both the precision recall curve and the ROC Curve."
   ]
  },
  {
   "cell_type": "code",
   "execution_count": null,
   "id": "99a040b0",
   "metadata": {},
   "outputs": [],
   "source": [
    "plot_precision_recall_curve(model4, scaled_x4_test, y4_test);"
   ]
  },
  {
   "cell_type": "markdown",
   "id": "857e1b69",
   "metadata": {},
   "source": [
    "## 8. Conclusion"
   ]
  },
  {
   "cell_type": "markdown",
   "id": "420d9c29",
   "metadata": {},
   "source": [
    "Comparing the three models tested, Model 1 performed high results values of precision, recall and f1-score."
   ]
  },
  {
   "cell_type": "markdown",
   "id": "1ca6e173",
   "metadata": {},
   "source": [
    "Final Task: An Employee with the following features<br>\n",
    "Age: 28<br>\n",
    "Department: 4<br>\n",
    "DistanceFromHome: 5<br>\n",
    "Education: 3 <br>\n",
    "EducationField:4<br>\n",
    "EnvironmentSatisfaction: 1<br>\n",
    "JobSatisfaction: 2<br>\n",
    "MaritalStatus:2<br>\n",
    "MonthlyIncome: 3 <br>\n",
    "NumCompaniesWorked: 6<br>\n",
    "WorkLifeBalance:3<br>\n",
    "YearsAtCompany:5<br>"
   ]
  },
  {
   "cell_type": "code",
   "execution_count": null,
   "id": "c09bd85c",
   "metadata": {},
   "outputs": [],
   "source": [
    "#add random values to KK according to the parameters mentioned above to check the proabily of attrition of the employee\n",
    "kk=[[28,4, 5, 3, 4, 1, 2, 2, 3, 6, 3, 5]]\n",
    "print(model.predict_proba(kk))"
   ]
  },
  {
   "cell_type": "markdown",
   "id": "074abfcf",
   "metadata": {},
   "source": [
    "The model predict that the patient belong to target class 0 way more than class 1."
   ]
  }
 ],
 "metadata": {
  "kernelspec": {
   "display_name": "Python 3 (ipykernel)",
   "language": "python",
   "name": "python3"
  },
  "language_info": {
   "codemirror_mode": {
    "name": "ipython",
    "version": 3
   },
   "file_extension": ".py",
   "mimetype": "text/x-python",
   "name": "python",
   "nbconvert_exporter": "python",
   "pygments_lexer": "ipython3",
   "version": "3.9.12"
  }
 },
 "nbformat": 4,
 "nbformat_minor": 5
}
